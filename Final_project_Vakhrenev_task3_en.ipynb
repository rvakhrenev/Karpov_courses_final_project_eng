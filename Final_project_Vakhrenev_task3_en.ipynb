{
 "cells": [
  {
   "cell_type": "markdown",
   "metadata": {},
   "source": [
    "# TASK 3"
   ]
  },
  {
   "cell_type": "markdown",
   "metadata": {},
   "source": [
    "### Plants & Gardens has a limited time themed event every month. In these, players can earn unique garden and character items, extra coins, or bonuses. To receive a reward, you must complete a series of levels in a certain amount of time. What metrics can I use to evaluate the results of the last event that took place?\n",
    "\n",
    "### Suppose, for another event, we made the event mechanics more complicated, so that for each unsuccessful attempt to complete a level, the player would roll back several levels. Will the set of outcome evaluation metrics change? If so, how?"
   ]
  },
  {
   "cell_type": "markdown",
   "metadata": {},
   "source": [
    "To assess the results of the event in terms of gameplay design, you can use the funnel of levels where players finished. Perhaps some level is not very balanced and players are dropping out on it, this can be seen by the higher percentage of players dropping out on this level\n",
    "\n",
    "Business metrics could be as follows:\n",
    "1)DAU, WAU, Stickness, and average session time during the event, compare to similar metrics for the week/week after the event\n",
    "2)Retention, also compare those who logged in to the event and the same period last week (or other period)\n",
    "3)ARPU, ARPPU. See with these metrics how much people donate while passing levels, probably some players will invest more money than usual to pass complex levels and get rewards for their passage\n",
    "4)You could look at the cost of attracting new players during and outside of the event, since rewards might motivate more players to start playing after seeing ads, for example\n",
    "(It would be cool to conduct an A/B-test and see the effect of the event on these metrics, it would be more correct to evaluate the effect of the event this way)\n"
   ]
  },
  {
   "cell_type": "markdown",
   "metadata": {},
   "source": [
    "For complex mechanics, all of the metrics listed above are useful. It is worth looking not only at what level players finished, but also at what levels they lost, so it will be clearer which levels were too difficult and take this into account in the future. "
   ]
  }
 ],
 "metadata": {
  "kernelspec": {
   "display_name": "Python 3",
   "language": "python",
   "name": "python3"
  },
  "language_info": {
   "codemirror_mode": {
    "name": "ipython",
    "version": 3
   },
   "file_extension": ".py",
   "mimetype": "text/x-python",
   "name": "python",
   "nbconvert_exporter": "python",
   "pygments_lexer": "ipython3",
   "version": "3.8.5"
  }
 },
 "nbformat": 4,
 "nbformat_minor": 4
}
